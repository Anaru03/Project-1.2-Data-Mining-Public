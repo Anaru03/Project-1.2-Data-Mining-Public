{
 "cells": [
  {
   "cell_type": "markdown",
   "metadata": {
    "vscode": {
     "languageId": "plaintext"
    }
   },
   "source": [
    "from sklearn.metrics import silhouette_score\n",
    "\n",
    "# 1.5. Clustering y Calidad del Agrupamiento (Método de la Silueta)"
   ]
  },
  {
   "cell_type": "code",
   "execution_count": 4,
   "metadata": {},
   "outputs": [
    {
     "name": "stdout",
     "output_type": "stream",
     "text": [
      "Silhouette Score for KMeans: 0.2676199836151407\n",
      "Silhouette Score for Agglomerative Clustering: 0.21840816090350562\n"
     ]
    }
   ],
   "source": [
    "import pandas as pd\n",
    "from sklearn.cluster import KMeans, AgglomerativeClustering\n",
    "from sklearn.metrics import silhouette_score\n",
    "from sklearn.preprocessing import StandardScaler\n",
    "\n",
    "# Cargar los datos\n",
    "df_movies = pd.read_csv('C:/Users/Usuario/OneDrive/Documentos/Proyecto1.2 - Minería/movies.csv', encoding='ISO-8859-1')\n",
    "\n",
    "\n",
    "# Seleccionar características relevantes para el agrupamiento\n",
    "features = df_movies[['budget', 'revenue', 'runtime', 'popularity', 'voteAvg', 'voteCount']]\n",
    "\n",
    "# Escalar las características\n",
    "scaler = StandardScaler()\n",
    "features_scaled = scaler.fit_transform(features)\n",
    "\n",
    "# Aplicar KMeans\n",
    "kmeans = KMeans(n_clusters=5, random_state=42)\n",
    "df_movies['Cluster_KMeans'] = kmeans.fit_predict(features_scaled)\n",
    "\n",
    "# Aplicar Agglomerative Clustering\n",
    "agg_clustering = AgglomerativeClustering(n_clusters=5)\n",
    "df_movies['Cluster_Agg'] = agg_clustering.fit_predict(features_scaled)\n",
    "\n",
    "# Calcular la puntuación de la silueta para KMeans\n",
    "sil_score_kmeans = silhouette_score(features_scaled, df_movies['Cluster_KMeans'])\n",
    "print(f\"Silhouette Score for KMeans: {sil_score_kmeans}\")\n",
    "\n",
    "# Calcular la puntuación de la silueta para Agglomerative Clustering\n",
    "sil_score_agg = silhouette_score(features_scaled, df_movies['Cluster_Agg'])\n",
    "print(f\"Silhouette Score for Agglomerative Clustering: {sil_score_agg}\")"
   ]
  },
  {
   "cell_type": "code",
   "execution_count": null,
   "metadata": {},
   "outputs": [],
   "source": []
  }
 ],
 "metadata": {
  "kernelspec": {
   "display_name": "Python 3",
   "language": "python",
   "name": "python3"
  },
  "language_info": {
   "codemirror_mode": {
    "name": "ipython",
    "version": 3
   },
   "file_extension": ".py",
   "mimetype": "text/x-python",
   "name": "python",
   "nbconvert_exporter": "python",
   "pygments_lexer": "ipython3",
   "version": "3.11.2"
  }
 },
 "nbformat": 4,
 "nbformat_minor": 2
}
